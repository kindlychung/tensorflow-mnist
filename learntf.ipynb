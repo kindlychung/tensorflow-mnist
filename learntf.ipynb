{
 "cells": [
  {
   "cell_type": "code",
   "execution_count": 1,
   "metadata": {
    "collapsed": true
   },
   "outputs": [
    {
     "name": "stdout",
     "output_type": "stream",
     "text": [
      "[[  99.44104004   99.79423523   99.73307037   99.70156097]\n [  98.41956329   99.92144775  100.69115448  100.06777954]\n [  98.24476624  100.55198669  101.63265991  100.55345917]]\nTensor(\"AssignAdd:0\", shape=(3, 4), dtype=float32_ref)\n<tf.Variable 'myvar:0' shape=(3, 4) dtype=float32_ref>\n[[ 11.01141834  10.50028419   8.16092014   8.9368372 ]\n [  9.79824543  10.25314903   9.32585144   9.27167606]\n [  9.53755474  11.76921844   8.60527992   8.91401196]]\n"
     ]
    }
   ],
   "source": [
    "# Reinitialization of variables\n",
    "import tensorflow as tf\n",
    "import numpy as np\n",
    "import matplotlib.pyplot as plt\n",
    "\n",
    "with tf.Graph().as_default():\n",
    "    with tf.Session() as sess:\n",
    "        my_var = tf.Variable(tf.truncated_normal([3, 4]), name=\"myvar\", dtype=tf.float32)\n",
    "        my_var_plus = my_var.assign_add(np.ones([3, 4], dtype=np.float32) * 10.0)\n",
    "        writer = tf.summary.FileWriter(\"./tf_summary\", sess.graph)\n",
    "        init = tf.variables_initializer([my_var])\n",
    "        sess.run(init)\n",
    "        for _ in range(10):\n",
    "            res = sess.run(my_var_plus)\n",
    "        print(res)\n",
    "        ############################\n",
    "        # reset variables\n",
    "        init = tf.variables_initializer([my_var])\n",
    "        print(my_var_plus)\n",
    "        print(my_var)\n",
    "        sess.run(init)\n",
    "        res = sess.run(my_var_plus)\n",
    "        print(res)\n",
    "        writer.close()"
   ]
  },
  {
   "cell_type": "code",
   "execution_count": 3,
   "metadata": {},
   "outputs": [
    {
     "name": "stdout",
     "output_type": "stream",
     "text": [
      "[[ 100.72036743   99.80186462  100.80006409  101.42294312]\n [ 101.40226746   98.84672546  101.0247345    99.52185822]\n [ 100.11682129   98.39685059   99.96975708   99.50824738]]\n[[ 1.  1.  1.  1.]\n [ 1.  1.  1.  1.]\n [ 1.  1.  1.  1.]]\n"
     ]
    }
   ],
   "source": [
    "import tensorflow as tf\n",
    "import numpy as np\n",
    "import matplotlib.pyplot as plt\n",
    "\n",
    "with tf.Graph().as_default():\n",
    "    with tf.Session() as sess:\n",
    "        my_var = tf.Variable(tf.truncated_normal([3, 4]), name=\"myvar\", dtype=tf.float32)\n",
    "        my_var_plus = my_var.assign_add(np.ones([3, 4], dtype=np.float32) * 10.0)\n",
    "        writer = tf.summary.FileWriter(\"./tf_summary\", sess.graph)\n",
    "        init = tf.variables_initializer([my_var])\n",
    "        sess.run(init)\n",
    "        for _ in range(10):\n",
    "            res = sess.run(my_var_plus)\n",
    "        print(res)\n",
    "        ##################################\n",
    "        # Assign new value\n",
    "        my_var_reassign = my_var.assign(tf.ones([3, 4]))\n",
    "        res = sess.run(my_var_reassign)\n",
    "        print(res)\n",
    "        writer.close()"
   ]
  },
  {
   "cell_type": "code",
   "execution_count": null,
   "metadata": {},
   "outputs": [],
   "source": [
    ""
   ]
  }
 ],
 "metadata": {
  "kernelspec": {
   "display_name": "Python 2",
   "language": "python",
   "name": "python2"
  },
  "language_info": {
   "codemirror_mode": {
    "name": "ipython",
    "version": 2
   },
   "file_extension": ".py",
   "mimetype": "text/x-python",
   "name": "python",
   "nbconvert_exporter": "python",
   "pygments_lexer": "ipython2",
   "version": "2.7.6"
  }
 },
 "nbformat": 4,
 "nbformat_minor": 0
}
